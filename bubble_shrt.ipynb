{
  "nbformat": 4,
  "nbformat_minor": 0,
  "metadata": {
    "colab": {
      "provenance": [],
      "authorship_tag": "ABX9TyPGi6jOk/A8qorpf5UJeuht"
    },
    "kernelspec": {
      "name": "python3",
      "display_name": "Python 3"
    },
    "language_info": {
      "name": "python"
    }
  },
  "cells": [
    {
      "cell_type": "code",
      "execution_count": null,
      "metadata": {
        "colab": {
          "base_uri": "https://localhost:8080/"
        },
        "id": "uUR4GtvEVNdz",
        "outputId": "8d078da9-153a-4554-c666-76de12207155"
      },
      "outputs": [
        {
          "output_type": "stream",
          "name": "stdout",
          "text": [
            "original array: [64, 34, 25, 12, 22, 11, 90]\n",
            "sorted array: [11, 12, 22, 25, 34, 64, 90]\n"
          ]
        }
      ],
      "source": [
        "def bubble_sort(arr):\n",
        " n=len(arr)\n",
        " for i in range(n):\n",
        "  for j in range(0, n-i-1):\n",
        "    if arr[j]>arr[j+1]:\n",
        "      arr[j],arr[j+1]=arr[j+1],arr[j]\n",
        " return arr\n",
        "arr=[64,34,25,12,22,11,90]\n",
        "print(\"original array:\",arr)\n",
        "sorted_arr=bubble_sort(arr)\n",
        "print(\"sorted array:\",sorted_arr)"
      ]
    },
    {
      "cell_type": "code",
      "source": [
        "def greet(name):\n",
        "  print(\"hello\",name)\n",
        "greet(\"sayanti\")"
      ],
      "metadata": {
        "colab": {
          "base_uri": "https://localhost:8080/"
        },
        "id": "3nMq07DcbdEA",
        "outputId": "e047c3b4-3fc9-4bf7-f01d-66905e0d85e9"
      },
      "execution_count": null,
      "outputs": [
        {
          "output_type": "stream",
          "name": "stdout",
          "text": [
            "hello sayanti\n"
          ]
        }
      ]
    },
    {
      "cell_type": "code",
      "source": [
        "def multiply(a,b):\n",
        "  n=a*b\n",
        "  return n\n",
        "result=multiply(19,23)\n",
        "print(result)"
      ],
      "metadata": {
        "colab": {
          "base_uri": "https://localhost:8080/"
        },
        "id": "dFzaDpQEeA44",
        "outputId": "fb5477f2-a5d0-4f1e-b61a-1f2c622389f5"
      },
      "execution_count": null,
      "outputs": [
        {
          "output_type": "stream",
          "name": "stdout",
          "text": [
            "437\n"
          ]
        }
      ]
    },
    {
      "cell_type": "code",
      "source": [
        "def add(a,b):\n",
        "  return a+b\n",
        "num1=int(input(\"enter the first number:\"))\n",
        "num2=int(input(\"enter the second number:\"))\n",
        "sum=add(num1,num2)\n",
        "print(f\"sum:{sum}\")"
      ],
      "metadata": {
        "colab": {
          "base_uri": "https://localhost:8080/"
        },
        "id": "Mj2K7phsfO-Y",
        "outputId": "e94252a0-8b20-48f5-ee96-c9b444055a7a"
      },
      "execution_count": null,
      "outputs": [
        {
          "output_type": "stream",
          "name": "stdout",
          "text": [
            "enter the first number:12\n",
            "enter the second number:23\n",
            "sum:35\n"
          ]
        }
      ]
    },
    {
      "cell_type": "code",
      "source": [
        "my_list=[1,2,3,'four',5.0]\n",
        "first_element=my_list[0]\n",
        "last_element=my_list[-1]\n",
        "print(first_element)\n",
        "print(last_element)\n",
        "my_list[1]='two'\n",
        "my_list[3]=4\n",
        "print(my_list)\n",
        "slice_of_list=my_list[1:4]\n",
        "print(slice_of_list)\n",
        "for element in my_list:\n",
        "  print(element)"
      ],
      "metadata": {
        "colab": {
          "base_uri": "https://localhost:8080/"
        },
        "id": "-ryCjlMjgUsX",
        "outputId": "c9ab6082-3bd1-4b9b-e9b2-35be20feb2fd"
      },
      "execution_count": null,
      "outputs": [
        {
          "output_type": "stream",
          "name": "stdout",
          "text": [
            "1\n",
            "5.0\n",
            "[1, 'two', 3, 4, 5.0]\n",
            "['two', 3, 4]\n",
            "1\n",
            "two\n",
            "3\n",
            "4\n",
            "5.0\n"
          ]
        }
      ]
    },
    {
      "cell_type": "code",
      "source": [
        "namelist=['Harsh','Patrick','Bob','Dhrub']\n",
        "print(namelist[1][-1])\n",
        "print(namelist[-1][-2])"
      ],
      "metadata": {
        "colab": {
          "base_uri": "https://localhost:8080/"
        },
        "id": "wNZgBIoeoZme",
        "outputId": "25b0fa6c-b029-40ab-9b1c-955114ccc998"
      },
      "execution_count": null,
      "outputs": [
        {
          "output_type": "stream",
          "name": "stdout",
          "text": [
            "k\n",
            "u\n"
          ]
        }
      ]
    },
    {
      "cell_type": "code",
      "source": [
        "my_list=[1,2,3,'four',5.0]\n",
        "my_list.append(6)\n",
        "print(my_list)\n",
        "my_list.insert(2,'new')\n",
        "print(my_list)\n",
        "my_list.remove('four')\n",
        "print(my_list)"
      ],
      "metadata": {
        "colab": {
          "base_uri": "https://localhost:8080/"
        },
        "id": "ErhtIvEQrKGG",
        "outputId": "e9b3f9ee-f069-4c39-c002-3d404a63dde0"
      },
      "execution_count": null,
      "outputs": [
        {
          "output_type": "stream",
          "name": "stdout",
          "text": [
            "[1, 2, 3, 'four', 5.0, 6]\n",
            "[1, 2, 'new', 3, 'four', 5.0, 6]\n",
            "[1, 2, 'new', 3, 5.0, 6]\n"
          ]
        }
      ]
    },
    {
      "cell_type": "code",
      "source": [
        "geekcode=[1,2,3,4]\n",
        "geekcode.append([5,6,7,8])\n",
        "print(geekcode)"
      ],
      "metadata": {
        "colab": {
          "base_uri": "https://localhost:8080/"
        },
        "id": "rN53FrB1s8g-",
        "outputId": "9aa848f9-909a-432d-89f8-671d1f34a090"
      },
      "execution_count": null,
      "outputs": [
        {
          "output_type": "stream",
          "name": "stdout",
          "text": [
            "[1, 2, 3, 4, [5, 6, 7, 8]]\n"
          ]
        }
      ]
    },
    {
      "cell_type": "code",
      "source": [
        "li=[2,3.4,'orange',8,'apple']\n",
        "li.append('mango')\n",
        "li.insert(7,5)\n",
        "print(li)"
      ],
      "metadata": {
        "colab": {
          "base_uri": "https://localhost:8080/"
        },
        "id": "UsWJ3AhpuH0M",
        "outputId": "5c2033b4-43e6-44e2-908f-7aaf917226c6"
      },
      "execution_count": null,
      "outputs": [
        {
          "output_type": "stream",
          "name": "stdout",
          "text": [
            "[2, 3.4, 'orange', 8, 'apple', 'mango', 5]\n"
          ]
        }
      ]
    },
    {
      "cell_type": "code",
      "source": [
        "firstname='Sayanti'\n",
        "secondname='Bhattacharjee'\n",
        "lastname='Payel'\n",
        "fullname=firstname+secondname+lastname\n",
        "print(fullname)\n"
      ],
      "metadata": {
        "colab": {
          "base_uri": "https://localhost:8080/"
        },
        "id": "ueSc99skwMYk",
        "outputId": "c0e4e08d-821c-417d-9210-ee61775b56c1"
      },
      "execution_count": null,
      "outputs": [
        {
          "output_type": "stream",
          "name": "stdout",
          "text": [
            "SayantiBhattacharjeePayel\n"
          ]
        }
      ]
    },
    {
      "cell_type": "code",
      "source": [
        "text='Dhaka is the capital of Bangladesh'\n",
        "print(text.upper())\n",
        "print(text.lower())\n",
        "print(text.title())\n",
        "print(text.capitalize())\n",
        "print(text.swapcase())"
      ],
      "metadata": {
        "colab": {
          "base_uri": "https://localhost:8080/"
        },
        "id": "nMUEMLA-w8M1",
        "outputId": "6ef56d9b-317c-4d6b-c491-2e410642c661"
      },
      "execution_count": null,
      "outputs": [
        {
          "output_type": "stream",
          "name": "stdout",
          "text": [
            "DHAKA IS THE CAPITAL OF BANGLADESH\n",
            "dhaka is the capital of bangladesh\n",
            "Dhaka Is The Capital Of Bangladesh\n",
            "Dhaka is the capital of bangladesh\n",
            "dHAKA IS THE CAPITAL OF bANGLADESH\n"
          ]
        }
      ]
    },
    {
      "cell_type": "code",
      "source": [
        "my_dict={}\n",
        "my_dict={'name':'Alice','age':25,'city':'New York'}\n",
        "print(my_dict)\n",
        "name=my_dict['name']\n",
        "age=my_dict['age']\n",
        "print(name)\n",
        "print(age)\n",
        "my_dict['age']=26\n",
        "my_dict['profession']='Engineer'\n",
        "del my_dict['city']\n",
        "profession=my_dict.pop('profession')\n",
        "print(my_dict)"
      ],
      "metadata": {
        "colab": {
          "base_uri": "https://localhost:8080/"
        },
        "id": "M2bwGdKEyEhF",
        "outputId": "b552fc2a-1057-4fbf-da7e-2ea711435d8d"
      },
      "execution_count": null,
      "outputs": [
        {
          "output_type": "stream",
          "name": "stdout",
          "text": [
            "{'name': 'Alice', 'age': 25, 'city': 'New York'}\n",
            "Alice\n",
            "25\n",
            "{'name': 'Alice', 'age': 26}\n"
          ]
        }
      ]
    },
    {
      "cell_type": "code",
      "source": [],
      "metadata": {
        "id": "td4infEl0PPd"
      },
      "execution_count": null,
      "outputs": []
    }
  ]
}